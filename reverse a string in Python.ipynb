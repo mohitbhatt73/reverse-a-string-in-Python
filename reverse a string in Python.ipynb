{
 "cells": [
  {
   "cell_type": "code",
   "execution_count": 2,
   "id": "1aa7f1c9",
   "metadata": {},
   "outputs": [
    {
     "name": "stdout",
     "output_type": "stream",
     "text": [
      "The original string is:  mohitbhatt\n",
      "The reverse string is ttahbtihom\n"
     ]
    }
   ],
   "source": [
    "def reverse_string(str):  \n",
    "    str1 = \"\"     \n",
    "    for i in str:  \n",
    "        str1 = i + str1  \n",
    "    return str1      \n",
    "     \n",
    "str = \"mohitbhatt\"           \n",
    "print(\"The original string is: \",str)  \n",
    "print(\"The reverse string is\",reverse_string(str))   "
   ]
  },
  {
   "cell_type": "code",
   "execution_count": null,
   "id": "307c50cb",
   "metadata": {},
   "outputs": [],
   "source": []
  }
 ],
 "metadata": {
  "kernelspec": {
   "display_name": "Python 3 (ipykernel)",
   "language": "python",
   "name": "python3"
  },
  "language_info": {
   "codemirror_mode": {
    "name": "ipython",
    "version": 3
   },
   "file_extension": ".py",
   "mimetype": "text/x-python",
   "name": "python",
   "nbconvert_exporter": "python",
   "pygments_lexer": "ipython3",
   "version": "3.10.1"
  }
 },
 "nbformat": 4,
 "nbformat_minor": 5
}
